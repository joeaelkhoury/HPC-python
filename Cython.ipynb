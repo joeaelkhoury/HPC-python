{
  "cells": [
    {
      "cell_type": "markdown",
      "id": "d2c32c22-adc0-4cbd-b66c-47ea2b3aebbe",
      "metadata": {
        "id": "d2c32c22-adc0-4cbd-b66c-47ea2b3aebbe"
      },
      "source": [
        "# Cython"
      ]
    },
    {
      "cell_type": "markdown",
      "id": "df042b85-101c-4a5c-8896-b744b0baa8a0",
      "metadata": {
        "id": "df042b85-101c-4a5c-8896-b744b0baa8a0"
      },
      "source": [
        "Cython is not just another Python library to speed up your scientific code, it actually consists of two closely related tools in one package:\n",
        "* a __programming language__ that extends Python with a static type system, and\n",
        "* a __transpiler__ that translates Cython source into C or C++ code that can subsequently be compiled.\n",
        "These two are combined such that the source code still closely resembles Python but gains the performance of C.\n",
        "\n",
        "\n",
        "__References__\n",
        "* _Cython: A Guide for Python Programmers_ (2015) by Kurt Smith\n",
        "* _Learning Cython Programming_ (2013) by Philip Herron\n",
        "* [Cython's Documentation](https://cython.readthedocs.io/en/stable/index.html)"
      ]
    },
    {
      "cell_type": "code",
      "execution_count": null,
      "id": "9da45db0-3164-41e8-871b-9f3a8fcf2f3b",
      "metadata": {
        "id": "9da45db0-3164-41e8-871b-9f3a8fcf2f3b"
      },
      "outputs": [],
      "source": [
        "%load_ext cython"
      ]
    },
    {
      "cell_type": "code",
      "execution_count": null,
      "id": "4c83f915-0e48-427e-aef0-584e86bad833",
      "metadata": {
        "id": "4c83f915-0e48-427e-aef0-584e86bad833"
      },
      "outputs": [],
      "source": [
        "import cython"
      ]
    },
    {
      "cell_type": "markdown",
      "id": "bad430a0-d141-4deb-b03f-2d8d928a9959",
      "metadata": {
        "jp-MarkdownHeadingCollapsed": true,
        "tags": [],
        "id": "bad430a0-d141-4deb-b03f-2d8d928a9959"
      },
      "source": [
        "## Motivation"
      ]
    },
    {
      "cell_type": "code",
      "execution_count": null,
      "id": "5489f73e-cc53-439e-8ab4-cceeb4668aa4",
      "metadata": {
        "tags": [],
        "id": "5489f73e-cc53-439e-8ab4-cceeb4668aa4"
      },
      "outputs": [],
      "source": [
        "def integral_pi(n):\n",
        "    from math import sqrt\n",
        "    s = 0\n",
        "    for i in range(n):\n",
        "        s += sqrt(1 - (i/float(n))**2)\n",
        "    return s/n"
      ]
    },
    {
      "cell_type": "code",
      "execution_count": null,
      "id": "405276b4-b654-4d40-b572-963043df9ed2",
      "metadata": {
        "tags": [],
        "id": "405276b4-b654-4d40-b572-963043df9ed2"
      },
      "outputs": [],
      "source": [
        "x = 1_000\n",
        "\n",
        "%timeit -r 30 -n 100 integral_pi(x)"
      ]
    },
    {
      "cell_type": "code",
      "execution_count": null,
      "id": "cd4dcba8-8c29-48c9-b1be-2b9fb0f5dbc9",
      "metadata": {
        "tags": [],
        "id": "cd4dcba8-8c29-48c9-b1be-2b9fb0f5dbc9"
      },
      "outputs": [],
      "source": [
        "%%cython --annotate\n",
        "\n",
        "import cython\n",
        "from libc.math cimport sqrt\n",
        "\n",
        "\n",
        "cdef double csqrt(double x):\n",
        "    return sqrt(x)\n",
        "\n",
        "\n",
        "@cython.cdivision(True)\n",
        "def c_integral_pi(long n):\n",
        "    cdef long i\n",
        "    cdef double s = 0.0\n",
        "    for i in range(1, n+1):\n",
        "        s += csqrt(1 - (i/float(n))**2)\n",
        "\n",
        "    return s/n"
      ]
    },
    {
      "cell_type": "code",
      "execution_count": null,
      "id": "5556d5d9-513b-4f2f-a632-42c0f92ab969",
      "metadata": {
        "tags": [],
        "id": "5556d5d9-513b-4f2f-a632-42c0f92ab969"
      },
      "outputs": [],
      "source": [
        "x = 1_000\n",
        "\n",
        "%timeit -r 30 -n 1_000 c_integral_pi(x)"
      ]
    },
    {
      "cell_type": "markdown",
      "id": "70a95fd2-d063-43a0-b08b-21ace29a1807",
      "metadata": {
        "jp-MarkdownHeadingCollapsed": true,
        "tags": [],
        "id": "70a95fd2-d063-43a0-b08b-21ace29a1807"
      },
      "source": [
        "## Types\n",
        "\n",
        "One crucial difference between high-level languages like Python and low-level languages like C is that the former has a __dynamic type system__ while the latter works with a __static type system__. Statically typed languages enforce a __fixed type__ for each variable at compile time that is either declared in the source code or unambiguously inferred by the compiler. Naturally, this gives the compiler more knowledge about the program and thus enables it to perform type checking at compile time, i.e. checking whether the type constraints are satisfied, and to generate optimized machine code. On the other hand, variables in dynamically typed languages can change their type during runtime and thereby require the interpreter to __perform type checking at runtime__ as well as __dynamically dispatch__ function calls, i.e. determining the appropriate low-level implementation for a function call with given types."
      ]
    },
    {
      "cell_type": "markdown",
      "id": "3cd6bcab-164f-431f-af4a-c9ae8ca78ee7",
      "metadata": {
        "jp-MarkdownHeadingCollapsed": true,
        "tags": [],
        "id": "3cd6bcab-164f-431f-af4a-c9ae8ca78ee7"
      },
      "source": [
        "#### Static type declaration of C variables\n",
        "\n",
        "In order to equip a variable with a static type, one simply uses they keyword `cdef` and the desired C type, e.g. `cdef int x`. If a variable in Cython does not have a static type, it is an untyped dynamic variable and behaves like a common Python variable. The modifiers `const` and `static` are not supported by Cython."
      ]
    },
    {
      "cell_type": "code",
      "execution_count": null,
      "id": "b5bd934e-81b3-4b67-bee1-5e4b307c9e13",
      "metadata": {
        "tags": [],
        "id": "b5bd934e-81b3-4b67-bee1-5e4b307c9e13"
      },
      "outputs": [],
      "source": [
        "%%cython --annotate\n",
        "\n",
        "import cython\n",
        "\n",
        "\n",
        "def fib(int n):\n",
        "    cdef int a = 0\n",
        "    cdef int b = 1\n",
        "    cdef int sum = 0\n",
        "    cdef int count = 1\n",
        "    while(count <= n):\n",
        "        count += 1\n",
        "        a = b\n",
        "        b = sum\n",
        "        sum = a + b\n",
        "    return sum"
      ]
    },
    {
      "cell_type": "markdown",
      "id": "9db9a823-8aa1-4a91-96ad-cb5f7f49b291",
      "metadata": {
        "jp-MarkdownHeadingCollapsed": true,
        "tags": [],
        "id": "9db9a823-8aa1-4a91-96ad-cb5f7f49b291"
      },
      "source": [
        "#### Static Declaration with Python Types\n",
        "\n",
        "Cython also allows to statically declare variables with built-in Python types, such as lists and dictionaries. This again gives the Cython compiler more static type information to optimize the generated code. Variables with statically declared Python types can also be used to initialize dynamically typed variables."
      ]
    },
    {
      "cell_type": "code",
      "execution_count": null,
      "id": "3a575052-fd76-484a-998f-9d357396b89c",
      "metadata": {
        "id": "3a575052-fd76-484a-998f-9d357396b89c"
      },
      "outputs": [],
      "source": [
        "%%cython\n",
        "\n",
        "import cython\n",
        "\n",
        "\n",
        "def staticList(n):\n",
        "    cdef list sints = []\n",
        "    for i in range(n):\n",
        "        sints.append(i)"
      ]
    },
    {
      "cell_type": "code",
      "execution_count": null,
      "id": "f6d6cb82-726c-4851-b37a-3217e0929fdc",
      "metadata": {
        "id": "f6d6cb82-726c-4851-b37a-3217e0929fdc"
      },
      "outputs": [],
      "source": [
        "%timeit -r 30 -n 100 staticList(10_000)"
      ]
    },
    {
      "cell_type": "code",
      "execution_count": null,
      "id": "b424a62c-52a7-406b-b57a-9e84eecb3d02",
      "metadata": {
        "id": "b424a62c-52a7-406b-b57a-9e84eecb3d02"
      },
      "outputs": [],
      "source": [
        "def dynamicList(n):\n",
        "    dints = []\n",
        "    for i in range(n):\n",
        "        dints.append(i)"
      ]
    },
    {
      "cell_type": "code",
      "execution_count": null,
      "id": "e0494282-ee90-418f-b742-62d4ccdeaa93",
      "metadata": {
        "id": "e0494282-ee90-418f-b742-62d4ccdeaa93"
      },
      "outputs": [],
      "source": [
        "%timeit -r 30 -n 100 dynamicList(10_000)"
      ]
    },
    {
      "cell_type": "markdown",
      "id": "212172db-5cef-4baa-b579-9c01679acbfb",
      "metadata": {
        "jp-MarkdownHeadingCollapsed": true,
        "tags": [],
        "id": "212172db-5cef-4baa-b579-9c01679acbfb"
      },
      "source": [
        "## Function Definitions\n",
        "\n",
        "Naturally, Cython also supports static declarations of functions. For the purpose of letting Python and C functions call each other easily, common Python functions work as expected. Three types of function declarations are possible:\n",
        "\n",
        "* __`def`__\n",
        "Regular Python functions are declared with `def`, just as expected. They take Python objects as parameters and return Python objects. If a function needs to be called from outside its Cython module, it has to be declared this way.\n",
        "\n",
        "* __`cdef`__\n",
        "With this declaration Cython creates a function with C-calling semantics. They can return either static C types or regular Python objects.\n",
        "\n",
        "* __`cpdef`__\n",
        "Hybrid function wrappers that call either the C or the Python version, depending on the caller."
      ]
    },
    {
      "cell_type": "code",
      "execution_count": null,
      "id": "38465cd7-dc11-47ca-b55f-f852f9232d92",
      "metadata": {
        "id": "38465cd7-dc11-47ca-b55f-f852f9232d92"
      },
      "outputs": [],
      "source": [
        "%%cython --annotate\n",
        "\n",
        "\n",
        "def fib(n):\n",
        "    a = 0\n",
        "    b = 1\n",
        "\n",
        "    for i in range(n-1):\n",
        "        sum = a + b\n",
        "        a = b\n",
        "        b = sum\n",
        "\n",
        "    return b"
      ]
    },
    {
      "cell_type": "code",
      "execution_count": null,
      "id": "d3c69a5b-49fa-42ce-b988-955b3804deaa",
      "metadata": {
        "id": "d3c69a5b-49fa-42ce-b988-955b3804deaa"
      },
      "outputs": [],
      "source": [
        "%%cython --annotate\n",
        "\n",
        "\n",
        "def fib(long n):\n",
        "    cdef long a = 0\n",
        "    cdef long b = 1\n",
        "\n",
        "    for i in range(n-1):\n",
        "        sum = a + b\n",
        "        a = b\n",
        "        b = sum\n",
        "\n",
        "    return b"
      ]
    },
    {
      "cell_type": "code",
      "execution_count": null,
      "id": "80444f92-ac50-48a7-ae77-61577d69b0c2",
      "metadata": {
        "id": "80444f92-ac50-48a7-ae77-61577d69b0c2"
      },
      "outputs": [],
      "source": [
        "%%cython --annotate\n",
        "\n",
        "\n",
        "cdef fib(long n):\n",
        "    cdef long a = 0\n",
        "    cdef long b = 1\n",
        "\n",
        "    for i in range(n-1):\n",
        "        sum = a + b\n",
        "        a = b\n",
        "        b = sum\n",
        "\n",
        "    return b"
      ]
    },
    {
      "cell_type": "code",
      "execution_count": null,
      "id": "19ec76ad-d88a-41f9-ae23-99dd831d0136",
      "metadata": {
        "id": "19ec76ad-d88a-41f9-ae23-99dd831d0136"
      },
      "outputs": [],
      "source": [
        "%%cython --annotate\n",
        "\n",
        "\n",
        "cpdef fib(long n):\n",
        "    cdef long a = 0\n",
        "    cdef long b = 1\n",
        "\n",
        "    for i in range(n-1):\n",
        "        sum = a + b\n",
        "        a = b\n",
        "        b = sum\n",
        "\n",
        "    return b"
      ]
    },
    {
      "cell_type": "markdown",
      "id": "4effd953-d3a4-42cc-805a-97e36527c31a",
      "metadata": {
        "jp-MarkdownHeadingCollapsed": true,
        "tags": [],
        "id": "4effd953-d3a4-42cc-805a-97e36527c31a"
      },
      "source": [
        "## Pure Python Mode\n",
        "\n",
        "Cython source code certainly does not run with the Python interpreter, since Cython is language-wise a superset of Python, yet sometimes it is beneficial to retain this capability, for example, while collaborating with pure Python developer or for testing and debugging purposes.\n",
        "To this end, Cython provides the __pure python mode__ that makes it possible to __augment Python code with cythonic features__ in a separate `.pxd` file. However, this mode restricts Cython to static type declarations and code that can be expressed in Python alone. The advantage is obviously the gained performance of Cython's static type system, but for the cost of necessarily maintaining two separate source code files."
      ]
    },
    {
      "cell_type": "code",
      "execution_count": null,
      "id": "b4f98cfe-a86d-4844-aaaf-9600cea10e37",
      "metadata": {
        "id": "b4f98cfe-a86d-4844-aaaf-9600cea10e37"
      },
      "outputs": [],
      "source": [
        "%%writefile cython/lecture/pure_python_demo.py\n",
        "\n",
        "\n",
        "def myfunction(x, y=2):\n",
        "    a = x - y\n",
        "    return a + x * y\n",
        "\n",
        "def _helper(a):\n",
        "    return a + 1\n",
        "\n",
        "class A:\n",
        "    def __init__(self, b=0):\n",
        "        self.a = 3\n",
        "        self.b = b\n",
        "\n",
        "    def foo(self, x):\n",
        "        print(x + _helper(1.0))"
      ]
    },
    {
      "cell_type": "code",
      "execution_count": null,
      "id": "793aad4c-fd60-485f-963b-0fb6467bc3e7",
      "metadata": {
        "id": "793aad4c-fd60-485f-963b-0fb6467bc3e7"
      },
      "outputs": [],
      "source": [
        "%%writefile cython/lecture/pure_python_demo.pxd\n",
        "\n",
        "\n",
        "cpdef int myfunction(int x, int y=*)\n",
        "cdef double _helper(double a)\n",
        "\n",
        "cdef class A:\n",
        "    cdef public int a, b\n",
        "    cpdef foo(self, double x)"
      ]
    },
    {
      "cell_type": "markdown",
      "id": "1477cc39-bbdf-4462-a01f-b3f5aad06779",
      "metadata": {
        "jp-MarkdownHeadingCollapsed": true,
        "tags": [],
        "id": "1477cc39-bbdf-4462-a01f-b3f5aad06779"
      },
      "source": [
        "## Compiler Directives a.k.a. Pragmas\n",
        "\n",
        "Compiler directives are additional, non-executable commands that specify how a compiler should process the given source code. For instance, OpenMP makes heavy use of pragmas in order to define the compilation of mutli-threaded programs. Cython supports numerous compiler directives, most of which affect its type system or toggle safety checks, and a few of them are especially relevant for performance.\n",
        "\n",
        "\n",
        "* __`boundscheck`__ Per default (`True`), Cython assumes that the index operator `[]` may cause IndexErrors. If set to `False`, the corresponding checks are removed and instructions that cause this error result in segfaults or data corruption.\n",
        "\n",
        "* __`wraparound`__ Python allows negative indices to index elements relative to the end of a sequence, however, this is not possible in C. Per default (`True`), the correct behavior of this is checked during runtime and may cause an IndexError. Deactivating these checks (`False`) allows Cython to assume that negative indices are handled correctly.\n",
        "\n",
        "\n",
        "* __`cdivision`__ Per default (`False`), Cython ensures that remainder and quotient operators match Python's ints and includes checks for division by 0 into the code. No such checks are included if it is set to `True`.\n",
        "\n",
        "\n",
        "__References:__\n",
        "\n",
        "* [Cython's Compiler Directives (last checked 08.2022)](https://cython.readthedocs.io/en/stable/src/userguide/source_files_and_compilation.html?highlight=boundscheck#compiler-directives)"
      ]
    },
    {
      "cell_type": "markdown",
      "id": "5c42da43-b46d-40ff-a587-9e82238d6205",
      "metadata": {
        "jp-MarkdownHeadingCollapsed": true,
        "tags": [],
        "id": "5c42da43-b46d-40ff-a587-9e82238d6205"
      },
      "source": [
        "## Python's GIL & Parallelization\n",
        "\n",
        "With enough exposure to Python, there is no way around the famous global interpreter lock (GIL). Contrary to popular belief, the GIL is not a shortcoming of Python itself, but a limitation of its reference implementation CPython. Other implementations like PyPy or Jython do not rely on it. In the words of [Python's official documentation](https://wiki.python.org/moin/GlobalInterpreterLock), the GIL\n",
        "\n",
        "> \"[...] is a mutex that protects access to Python objects, preventing multiple threads from executing Python bytecodes at once. The GIL prevents race conditions and ensures thread safety.\"\n",
        "\n",
        "The GIL facilitates memory management of Python objects by ensuring that only one thread can execute Python bytecode at any time during the execution of a CPython program. Technically, the GIL is not necessary, but it makes the implementation of CPython much less complex and over time more of CPython's features have become dependent on it and thereby reinforce its necessity.\n",
        "However, [NoGil](https://github.com/colesbury/nogil) is a recent attempt to develop a CPython fork that is completely GIL-free.\n",
        "\n",
        "Cython on the other hand does not require any memory management since it is a compiled and not an interpreted language whose bytecode is executed via interpreters. Consequently, the GIL can be released while the program does not interact with Python objects.\n",
        "\n",
        "\n",
        "__References:__\n",
        "\n",
        "[Cython Documentation](https://cython.readthedocs.io/en/stable/src/userguide/parallelism.html)"
      ]
    },
    {
      "cell_type": "markdown",
      "id": "d4053b81-9f72-452a-8f47-1a9e74a2b0dc",
      "metadata": {
        "id": "d4053b81-9f72-452a-8f47-1a9e74a2b0dc"
      },
      "source": [
        "There are two ways to release the GIL for a given function with the keyword `nogil`:\n",
        "* `nogil` put at the end of a function declaration, or\n",
        "* `with nogil` placed before the function call as part of a context manager."
      ]
    },
    {
      "cell_type": "code",
      "execution_count": null,
      "id": "7e0561c2-c63a-470b-99b0-70674523d1ee",
      "metadata": {
        "id": "7e0561c2-c63a-470b-99b0-70674523d1ee"
      },
      "outputs": [],
      "source": [
        "%%cython --compile-args=-fopenmp --link-args=-fopenmp\n",
        "from cython import wraparound, boundscheck\n",
        "import numpy as np\n",
        "from math import exp\n",
        "from libc.math cimport exp as c_exp\n",
        "\n",
        "x = np.random.randn(2_000_000)\n",
        "\n",
        "@boundscheck(False)\n",
        "@wraparound(False)\n",
        "def cy_diff(double[:] x):\n",
        "    cdef int n = x.size\n",
        "    cdef double[:] y = np.zeros(n-1)\n",
        "    cdef int i\n",
        "    for i in range(n-1):\n",
        "        y[i] = c_exp(x[i+1] - x[i])\n",
        "    return y"
      ]
    },
    {
      "cell_type": "code",
      "execution_count": null,
      "id": "38fcd3d0-6f79-4f7f-b02e-60b429445ec8",
      "metadata": {
        "tags": [],
        "id": "38fcd3d0-6f79-4f7f-b02e-60b429445ec8"
      },
      "outputs": [],
      "source": [
        "%timeit -r 30 -n 10 cy_diff(x)"
      ]
    },
    {
      "cell_type": "code",
      "execution_count": null,
      "id": "54d80b37-f640-43a9-b1e8-b2cce6a83920",
      "metadata": {
        "tags": [],
        "id": "54d80b37-f640-43a9-b1e8-b2cce6a83920"
      },
      "outputs": [],
      "source": [
        "%%cython --compile-args=-fopenmp --link-args=-fopenmp\n",
        "\n",
        "from cython import wraparound, boundscheck\n",
        "from cython.parallel cimport prange\n",
        "import numpy as np\n",
        "cimport openmp\n",
        "from math import exp\n",
        "from libc.math cimport exp as c_exp\n",
        "\n",
        "x = np.random.randn(2_000_000)\n",
        "\n",
        "@boundscheck(False)\n",
        "def cy_pardiff(double[:] x):\n",
        "    cdef int n = x.size\n",
        "    cdef double[:] y = np.zeros(n-1)\n",
        "    cdef int i\n",
        "    for i in prange(n-1, nogil=True, num_threads=2):\n",
        "        y[i] = c_exp(x[i+1] - x[i])\n",
        "    return y"
      ]
    },
    {
      "cell_type": "code",
      "execution_count": null,
      "id": "371c8026-cd73-40e5-b6bb-0cae302e97f3",
      "metadata": {
        "id": "371c8026-cd73-40e5-b6bb-0cae302e97f3"
      },
      "outputs": [],
      "source": [
        "%timeit -r 30 -n 10 cy_pardiff(x)"
      ]
    }
  ],
  "metadata": {
    "kernelspec": {
      "display_name": "Python 3 (ipykernel)",
      "language": "python",
      "name": "python3"
    },
    "language_info": {
      "codemirror_mode": {
        "name": "ipython",
        "version": 3
      },
      "file_extension": ".py",
      "mimetype": "text/x-python",
      "name": "python",
      "nbconvert_exporter": "python",
      "pygments_lexer": "ipython3",
      "version": "3.8.10"
    },
    "colab": {
      "provenance": []
    }
  },
  "nbformat": 4,
  "nbformat_minor": 5
}